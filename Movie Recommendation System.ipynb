{
  "nbformat": 4,
  "nbformat_minor": 0,
  "metadata": {
    "colab": {
      "provenance": []
    },
    "kernelspec": {
      "name": "python3",
      "display_name": "Python 3"
    },
    "language_info": {
      "name": "python"
    }
  },
  "cells": [
    {
      "cell_type": "code",
      "execution_count": 26,
      "metadata": {
        "id": "tz-0-n-GQ0C_"
      },
      "outputs": [],
      "source": [
        "import pandas as pd\n",
        "import numpy as np\n",
        "from sklearn.model_selection import train_test_split\n",
        "from sklearn.metrics.pairwise import cosine_similarity\n",
        "from sklearn.decomposition import TruncatedSVD\n",
        "\n",
        "movies = pd.read_csv(\"u.item\",\n",
        "                     sep='|', encoding='latin-1', header=None, usecols=[0,1],\n",
        "                     names=['movie_id', 'title'])\n",
        "ratings = pd.read_csv(\"u.data\",\n",
        "                      sep='\\t', header=None, names=['user_id', 'movie_id', 'rating', 'timestamp'])\n",
        "\n",
        "\n",
        "train, test = train_test_split(ratings, test_size=0.3, random_state=42)\n",
        "\n",
        "user_item_train = train.pivot(index='user_id', columns='movie_id', values='rating').fillna(0)\n",
        "user_item_test  = test.pivot(index='user_id', columns='movie_id', values='rating').fillna(0)\n",
        "\n"
      ]
    },
    {
      "cell_type": "code",
      "source": [
        "\n",
        "for m in movies['movie_id']:\n",
        "    if m not in user_item_train.columns:\n",
        "        user_item_train[m] = 0\n",
        "        user_item_test[m] = 0\n",
        "\n",
        "user_item_train = user_item_train.sort_index(axis=1)\n",
        "user_item_test = user_item_test.sort_index(axis=1)\n",
        "\n",
        "user_sim = cosine_similarity(user_item_train)\n",
        "item_sim = cosine_similarity(user_item_train.T)\n"
      ],
      "metadata": {
        "id": "fuy_KYUvg9Kl"
      },
      "execution_count": 27,
      "outputs": []
    },
    {
      "cell_type": "code",
      "source": [
        "\n",
        "def recommend_user(user_id, top_n=10):\n",
        "    user_idx = user_id - 1\n",
        "    sim_scores = user_sim[user_idx]\n",
        "    user_ratings = user_item_train.loc[user_id].values\n",
        "    pred_ratings = sim_scores.dot(user_item_train.values) / np.abs(sim_scores).sum()\n",
        "    pred_ratings[user_ratings > 0] = 0\n",
        "    top_idx = np.argsort(pred_ratings)[::-1][:top_n]\n",
        "    return movies[movies['movie_id'].isin(user_item_train.columns[top_idx])]['title'].values\n",
        "\n",
        "def recommend_item(user_id, top_n=10):\n",
        "    user_ratings = user_item_train.loc[user_id].values\n",
        "    pred_ratings = item_sim.dot(user_ratings)\n",
        "    pred_ratings[user_ratings > 0] = 0\n",
        "    top_idx = np.argsort(pred_ratings)[::-1][:top_n]\n",
        "    return movies[movies['movie_id'].isin(user_item_train.columns[top_idx])]['title'].values\n"
      ],
      "metadata": {
        "id": "lBZf4Q5WhAtT"
      },
      "execution_count": 28,
      "outputs": []
    },
    {
      "cell_type": "code",
      "source": [
        "svd = TruncatedSVD(n_components=20, random_state=42)\n",
        "svd_matrix = svd.fit_transform(user_item_train)\n",
        "user_features = svd_matrix\n",
        "item_features = svd.components_.T\n",
        "\n",
        "def recommend_svd(user_id, top_n=10):\n",
        "    user_idx = user_id - 1\n",
        "    pred_ratings = user_features[user_idx].dot(item_features.T)\n",
        "    user_ratings = user_item_train.loc[user_id].values\n",
        "    pred_ratings[user_ratings > 0] = 0\n",
        "    top_idx = np.argsort(pred_ratings)[::-1][:top_n]\n",
        "    return movies[movies['movie_id'].isin(user_item_train.columns[top_idx])]['title'].values\n"
      ],
      "metadata": {
        "id": "xWIpltcphLe4"
      },
      "execution_count": 29,
      "outputs": []
    },
    {
      "cell_type": "code",
      "source": [
        "def precision_at_k(recommend_func, k):\n",
        "    precisions = []\n",
        "    for user_id in user_item_test.index:\n",
        "        true_items = set(user_item_test.loc[user_id][user_item_test.loc[user_id] > 0].index)\n",
        "        if not true_items:\n",
        "            continue\n",
        "        recommended = recommend_func(user_id, top_n=k)\n",
        "        recommended_ids = set(user_item_train.columns[user_item_train.columns.isin([movies[movies['title']==t]['movie_id'].values[0] for t in recommended])])\n",
        "        precisions.append(len(true_items & recommended_ids)/k)\n",
        "    if len(precisions) == 0:\n",
        "        return 0.0\n",
        "    return np.mean(precisions)"
      ],
      "metadata": {
        "id": "AsbyjEbJhTZ8"
      },
      "execution_count": 30,
      "outputs": []
    },
    {
      "cell_type": "code",
      "source": [
        "Ks = [10, 20, 50]\n",
        "results = {}\n",
        "results['User-based CF'] = {k: precision_at_k(recommend_user, k) for k in Ks}\n",
        "results['Item-based CF'] = {k: precision_at_k(recommend_item, k) for k in Ks}\n",
        "results['SVD'] = {k: precision_at_k(recommend_svd, k) for k in Ks}\n",
        "\n",
        "df_results = pd.DataFrame(results).T\n",
        "df_results.index.name = \"Model\"\n",
        "df_results.columns.name = \"K\"\n",
        "\n",
        "print(\"=== Precision@K Results ===\\n\")\n",
        "print(df_results)"
      ],
      "metadata": {
        "colab": {
          "base_uri": "https://localhost:8080/"
        },
        "id": "tnmXb5TbhTdi",
        "outputId": "b648e421-0bd6-4eb4-be5c-a68befc782c5"
      },
      "execution_count": 31,
      "outputs": [
        {
          "output_type": "stream",
          "name": "stdout",
          "text": [
            "=== Precision@K Results ===\n",
            "\n",
            "K                    10        20        50\n",
            "Model                                      \n",
            "User-based CF  0.344327  0.281548  0.197794\n",
            "Item-based CF  0.375716  0.303977  0.213404\n",
            "SVD            0.413256  0.345387  0.245599\n"
          ]
        }
      ]
    }
  ]
}